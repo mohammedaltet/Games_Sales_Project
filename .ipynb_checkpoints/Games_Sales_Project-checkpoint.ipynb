{
 "cells": [
  {
   "cell_type": "code",
   "execution_count": 1,
   "id": "9be9eab5",
   "metadata": {},
   "outputs": [],
   "source": [
    "import pandas as pd\n",
    "import numpy as np\n",
    "import seaborn as sns\n",
    "import matplotlib.pyplot as plt"
   ]
  },
  {
   "cell_type": "code",
   "execution_count": 2,
   "id": "6fea69a5",
   "metadata": {},
   "outputs": [],
   "source": [
    "df = pd.read_csv('vgsales.csv',index_col=0)"
   ]
  },
  {
   "cell_type": "code",
   "execution_count": 15,
   "id": "320ba688",
   "metadata": {
    "scrolled": true
   },
   "outputs": [
    {
     "data": {
      "text/html": [
       "<div>\n",
       "<style scoped>\n",
       "    .dataframe tbody tr th:only-of-type {\n",
       "        vertical-align: middle;\n",
       "    }\n",
       "\n",
       "    .dataframe tbody tr th {\n",
       "        vertical-align: top;\n",
       "    }\n",
       "\n",
       "    .dataframe thead th {\n",
       "        text-align: right;\n",
       "    }\n",
       "</style>\n",
       "<table border=\"1\" class=\"dataframe\">\n",
       "  <thead>\n",
       "    <tr style=\"text-align: right;\">\n",
       "      <th></th>\n",
       "      <th>Name</th>\n",
       "      <th>Platform</th>\n",
       "      <th>Year</th>\n",
       "      <th>Genre</th>\n",
       "      <th>Publisher</th>\n",
       "      <th>NA_Sales</th>\n",
       "      <th>EU_Sales</th>\n",
       "      <th>JP_Sales</th>\n",
       "      <th>Other_Sales</th>\n",
       "      <th>Global_Sales</th>\n",
       "    </tr>\n",
       "    <tr>\n",
       "      <th>Rank</th>\n",
       "      <th></th>\n",
       "      <th></th>\n",
       "      <th></th>\n",
       "      <th></th>\n",
       "      <th></th>\n",
       "      <th></th>\n",
       "      <th></th>\n",
       "      <th></th>\n",
       "      <th></th>\n",
       "      <th></th>\n",
       "    </tr>\n",
       "  </thead>\n",
       "  <tbody>\n",
       "    <tr>\n",
       "      <th>1</th>\n",
       "      <td>Wii Sports</td>\n",
       "      <td>Wii</td>\n",
       "      <td>2006</td>\n",
       "      <td>Sports</td>\n",
       "      <td>Nintendo</td>\n",
       "      <td>41.49</td>\n",
       "      <td>29.02</td>\n",
       "      <td>3.77</td>\n",
       "      <td>8.46</td>\n",
       "      <td>82.74</td>\n",
       "    </tr>\n",
       "    <tr>\n",
       "      <th>2</th>\n",
       "      <td>Super Mario Bros.</td>\n",
       "      <td>NES</td>\n",
       "      <td>1985</td>\n",
       "      <td>Platform</td>\n",
       "      <td>Nintendo</td>\n",
       "      <td>29.08</td>\n",
       "      <td>3.58</td>\n",
       "      <td>6.81</td>\n",
       "      <td>0.77</td>\n",
       "      <td>40.24</td>\n",
       "    </tr>\n",
       "    <tr>\n",
       "      <th>3</th>\n",
       "      <td>Mario Kart Wii</td>\n",
       "      <td>Wii</td>\n",
       "      <td>2008</td>\n",
       "      <td>Racing</td>\n",
       "      <td>Nintendo</td>\n",
       "      <td>15.85</td>\n",
       "      <td>12.88</td>\n",
       "      <td>3.79</td>\n",
       "      <td>3.31</td>\n",
       "      <td>35.82</td>\n",
       "    </tr>\n",
       "    <tr>\n",
       "      <th>4</th>\n",
       "      <td>Wii Sports Resort</td>\n",
       "      <td>Wii</td>\n",
       "      <td>2009</td>\n",
       "      <td>Sports</td>\n",
       "      <td>Nintendo</td>\n",
       "      <td>15.75</td>\n",
       "      <td>11.01</td>\n",
       "      <td>3.28</td>\n",
       "      <td>2.96</td>\n",
       "      <td>33.00</td>\n",
       "    </tr>\n",
       "    <tr>\n",
       "      <th>5</th>\n",
       "      <td>Pokemon Red/Pokemon Blue</td>\n",
       "      <td>GB</td>\n",
       "      <td>1996</td>\n",
       "      <td>Role-Playing</td>\n",
       "      <td>Nintendo</td>\n",
       "      <td>11.27</td>\n",
       "      <td>8.89</td>\n",
       "      <td>10.22</td>\n",
       "      <td>1.00</td>\n",
       "      <td>31.37</td>\n",
       "    </tr>\n",
       "  </tbody>\n",
       "</table>\n",
       "</div>"
      ],
      "text/plain": [
       "                          Name Platform  Year         Genre Publisher  \\\n",
       "Rank                                                                    \n",
       "1                   Wii Sports      Wii  2006        Sports  Nintendo   \n",
       "2            Super Mario Bros.      NES  1985      Platform  Nintendo   \n",
       "3               Mario Kart Wii      Wii  2008        Racing  Nintendo   \n",
       "4            Wii Sports Resort      Wii  2009        Sports  Nintendo   \n",
       "5     Pokemon Red/Pokemon Blue       GB  1996  Role-Playing  Nintendo   \n",
       "\n",
       "      NA_Sales  EU_Sales  JP_Sales  Other_Sales  Global_Sales  \n",
       "Rank                                                           \n",
       "1        41.49     29.02      3.77         8.46         82.74  \n",
       "2        29.08      3.58      6.81         0.77         40.24  \n",
       "3        15.85     12.88      3.79         3.31         35.82  \n",
       "4        15.75     11.01      3.28         2.96         33.00  \n",
       "5        11.27      8.89     10.22         1.00         31.37  "
      ]
     },
     "execution_count": 15,
     "metadata": {},
     "output_type": "execute_result"
    }
   ],
   "source": [
    "df.head()"
   ]
  },
  {
   "cell_type": "code",
   "execution_count": 4,
   "id": "19e151aa",
   "metadata": {
    "scrolled": false
   },
   "outputs": [
    {
     "name": "stdout",
     "output_type": "stream",
     "text": [
      "<class 'pandas.core.frame.DataFrame'>\n",
      "Int64Index: 16598 entries, 1 to 16600\n",
      "Data columns (total 10 columns):\n",
      " #   Column        Non-Null Count  Dtype  \n",
      "---  ------        --------------  -----  \n",
      " 0   Name          16598 non-null  object \n",
      " 1   Platform      16598 non-null  object \n",
      " 2   Year          16327 non-null  float64\n",
      " 3   Genre         16598 non-null  object \n",
      " 4   Publisher     16540 non-null  object \n",
      " 5   NA_Sales      16598 non-null  float64\n",
      " 6   EU_Sales      16598 non-null  float64\n",
      " 7   JP_Sales      16598 non-null  float64\n",
      " 8   Other_Sales   16598 non-null  float64\n",
      " 9   Global_Sales  16598 non-null  float64\n",
      "dtypes: float64(6), object(4)\n",
      "memory usage: 1.4+ MB\n"
     ]
    }
   ],
   "source": [
    "df.info()"
   ]
  },
  {
   "cell_type": "code",
   "execution_count": 14,
   "id": "a54a5290",
   "metadata": {},
   "outputs": [
    {
     "data": {
      "text/html": [
       "<div>\n",
       "<style scoped>\n",
       "    .dataframe tbody tr th:only-of-type {\n",
       "        vertical-align: middle;\n",
       "    }\n",
       "\n",
       "    .dataframe tbody tr th {\n",
       "        vertical-align: top;\n",
       "    }\n",
       "\n",
       "    .dataframe thead th {\n",
       "        text-align: right;\n",
       "    }\n",
       "</style>\n",
       "<table border=\"1\" class=\"dataframe\">\n",
       "  <thead>\n",
       "    <tr style=\"text-align: right;\">\n",
       "      <th></th>\n",
       "      <th>count</th>\n",
       "      <th>mean</th>\n",
       "      <th>std</th>\n",
       "      <th>min</th>\n",
       "      <th>25%</th>\n",
       "      <th>50%</th>\n",
       "      <th>75%</th>\n",
       "      <th>max</th>\n",
       "    </tr>\n",
       "  </thead>\n",
       "  <tbody>\n",
       "    <tr>\n",
       "      <th>Year</th>\n",
       "      <td>16291.0</td>\n",
       "      <td>2006.405561</td>\n",
       "      <td>5.832412</td>\n",
       "      <td>1980.00</td>\n",
       "      <td>2003.00</td>\n",
       "      <td>2007.00</td>\n",
       "      <td>2010.00</td>\n",
       "      <td>2020.00</td>\n",
       "    </tr>\n",
       "    <tr>\n",
       "      <th>NA_Sales</th>\n",
       "      <td>16291.0</td>\n",
       "      <td>0.265647</td>\n",
       "      <td>0.822432</td>\n",
       "      <td>0.00</td>\n",
       "      <td>0.00</td>\n",
       "      <td>0.08</td>\n",
       "      <td>0.24</td>\n",
       "      <td>41.49</td>\n",
       "    </tr>\n",
       "    <tr>\n",
       "      <th>EU_Sales</th>\n",
       "      <td>16291.0</td>\n",
       "      <td>0.147731</td>\n",
       "      <td>0.509303</td>\n",
       "      <td>0.00</td>\n",
       "      <td>0.00</td>\n",
       "      <td>0.02</td>\n",
       "      <td>0.11</td>\n",
       "      <td>29.02</td>\n",
       "    </tr>\n",
       "    <tr>\n",
       "      <th>JP_Sales</th>\n",
       "      <td>16291.0</td>\n",
       "      <td>0.078833</td>\n",
       "      <td>0.311879</td>\n",
       "      <td>0.00</td>\n",
       "      <td>0.00</td>\n",
       "      <td>0.00</td>\n",
       "      <td>0.04</td>\n",
       "      <td>10.22</td>\n",
       "    </tr>\n",
       "    <tr>\n",
       "      <th>Other_Sales</th>\n",
       "      <td>16291.0</td>\n",
       "      <td>0.048426</td>\n",
       "      <td>0.190083</td>\n",
       "      <td>0.00</td>\n",
       "      <td>0.00</td>\n",
       "      <td>0.01</td>\n",
       "      <td>0.04</td>\n",
       "      <td>10.57</td>\n",
       "    </tr>\n",
       "    <tr>\n",
       "      <th>Global_Sales</th>\n",
       "      <td>16291.0</td>\n",
       "      <td>0.540910</td>\n",
       "      <td>1.567345</td>\n",
       "      <td>0.01</td>\n",
       "      <td>0.06</td>\n",
       "      <td>0.17</td>\n",
       "      <td>0.48</td>\n",
       "      <td>82.74</td>\n",
       "    </tr>\n",
       "  </tbody>\n",
       "</table>\n",
       "</div>"
      ],
      "text/plain": [
       "                count         mean       std      min      25%      50%  \\\n",
       "Year          16291.0  2006.405561  5.832412  1980.00  2003.00  2007.00   \n",
       "NA_Sales      16291.0     0.265647  0.822432     0.00     0.00     0.08   \n",
       "EU_Sales      16291.0     0.147731  0.509303     0.00     0.00     0.02   \n",
       "JP_Sales      16291.0     0.078833  0.311879     0.00     0.00     0.00   \n",
       "Other_Sales   16291.0     0.048426  0.190083     0.00     0.00     0.01   \n",
       "Global_Sales  16291.0     0.540910  1.567345     0.01     0.06     0.17   \n",
       "\n",
       "                  75%      max  \n",
       "Year          2010.00  2020.00  \n",
       "NA_Sales         0.24    41.49  \n",
       "EU_Sales         0.11    29.02  \n",
       "JP_Sales         0.04    10.22  \n",
       "Other_Sales      0.04    10.57  \n",
       "Global_Sales     0.48    82.74  "
      ]
     },
     "execution_count": 14,
     "metadata": {},
     "output_type": "execute_result"
    }
   ],
   "source": [
    "df.describe().T"
   ]
  },
  {
   "cell_type": "code",
   "execution_count": 6,
   "id": "f54a7684",
   "metadata": {
    "scrolled": true
   },
   "outputs": [
    {
     "data": {
      "text/plain": [
       "1"
      ]
     },
     "execution_count": 6,
     "metadata": {},
     "output_type": "execute_result"
    }
   ],
   "source": [
    "df.duplicated().sum()"
   ]
  },
  {
   "cell_type": "code",
   "execution_count": 7,
   "id": "65dc21f5",
   "metadata": {},
   "outputs": [
    {
     "data": {
      "text/plain": [
       "0"
      ]
     },
     "execution_count": 7,
     "metadata": {},
     "output_type": "execute_result"
    }
   ],
   "source": [
    "df.drop_duplicates(keep=False,inplace=True)\n",
    "df.duplicated().sum()"
   ]
  },
  {
   "cell_type": "code",
   "execution_count": 8,
   "id": "beb5130e",
   "metadata": {},
   "outputs": [
    {
     "data": {
      "text/plain": [
       "Name              0\n",
       "Platform          0\n",
       "Year            269\n",
       "Genre             0\n",
       "Publisher        58\n",
       "NA_Sales          0\n",
       "EU_Sales          0\n",
       "JP_Sales          0\n",
       "Other_Sales       0\n",
       "Global_Sales      0\n",
       "dtype: int64"
      ]
     },
     "execution_count": 8,
     "metadata": {},
     "output_type": "execute_result"
    }
   ],
   "source": [
    "df.isnull().sum()"
   ]
  },
  {
   "cell_type": "code",
   "execution_count": 9,
   "id": "e6434098",
   "metadata": {},
   "outputs": [],
   "source": [
    "df.dropna(axis = 0, inplace = True)"
   ]
  },
  {
   "cell_type": "code",
   "execution_count": 10,
   "id": "e46e63b9",
   "metadata": {},
   "outputs": [],
   "source": [
    "def Year_corr(y):\n",
    "    return int(y)"
   ]
  },
  {
   "cell_type": "code",
   "execution_count": 11,
   "id": "27dfb814",
   "metadata": {},
   "outputs": [],
   "source": [
    "df['Year'] = df['Year'].apply(Year_corr)"
   ]
  },
  {
   "cell_type": "markdown",
   "id": "96152e70",
   "metadata": {},
   "source": [
    "Exploring"
   ]
  },
  {
   "cell_type": "markdown",
   "id": "43ab13d8",
   "metadata": {},
   "source": [
    "##### 1- which platform has most games and which publisher has most games ?\n"
   ]
  },
  {
   "cell_type": "code",
   "execution_count": 12,
   "id": "e1067eaa",
   "metadata": {
    "scrolled": true
   },
   "outputs": [
    {
     "data": {
      "text/plain": [
       "Electronic Arts                 1339\n",
       "Activision                       966\n",
       "Namco Bandai Games               928\n",
       "Ubisoft                          918\n",
       "Konami Digital Entertainment     823\n",
       "THQ                              712\n",
       "Nintendo                         696\n",
       "Sony Computer Entertainment      682\n",
       "Sega                             632\n",
       "Take-Two Interactive             412\n",
       "Name: Publisher, dtype: int64"
      ]
     },
     "execution_count": 12,
     "metadata": {},
     "output_type": "execute_result"
    }
   ],
   "source": [
    "df['Publisher'].value_counts()[0:10]"
   ]
  },
  {
   "cell_type": "code",
   "execution_count": 13,
   "id": "0b8c42d0",
   "metadata": {},
   "outputs": [
    {
     "data": {
      "image/png": "[encoded data removed]",
      "text/plain": [
       "<Figure size 432x288 with 1 Axes>"
      ]
     },
     "metadata": {
      "needs_background": "light"
     },
     "output_type": "display_data"
    }
   ],
   "source": [
    "sns.countplot(y=\"Publisher\", data=df, order=df.Publisher.value_counts().iloc[:10].index);"
   ]
  },
  {
   "cell_type": "code",
   "execution_count": 57,
   "id": "7f027ac9",
   "metadata": {
    "scrolled": true
   },
   "outputs": [
    {
     "data": {
      "text/plain": [
       "DS      2163\n",
       "PS2     2161\n",
       "PS3     1329\n",
       "Wii     1323\n",
       "X360    1265\n",
       "PSP     1213\n",
       "PS      1196\n",
       "PC       960\n",
       "XB       824\n",
       "GBA      822\n",
       "Name: Platform, dtype: int64"
      ]
     },
     "execution_count": 57,
     "metadata": {},
     "output_type": "execute_result"
    }
   ],
   "source": [
    "df['Platform'].value_counts()[0:10]"
   ]
  },
  {
   "cell_type": "code",
   "execution_count": 23,
   "id": "3e764bd0",
   "metadata": {
    "scrolled": true
   },
   "outputs": [
    {
     "data": {
      "image/png": "[encoded data removed]",
      "text/plain": [
       "<Figure size 1080x432 with 1 Axes>"
      ]
     },
     "metadata": {
      "needs_background": "light"
     },
     "output_type": "display_data"
    }
   ],
   "source": [
    "sns.countplot(x=df['Platform']);"
   ]
  },
  {
   "cell_type": "markdown",
   "id": "6413f67e",
   "metadata": {},
   "source": [
    "##### 2- most year relesed games was in ? \n"
   ]
  },
  {
   "cell_type": "code",
   "execution_count": 28,
   "id": "b1f13207",
   "metadata": {
    "scrolled": true
   },
   "outputs": [
    {
     "data": {
      "text/plain": [
       "2009    1431\n",
       "2008    1428\n",
       "2010    1257\n",
       "2007    1201\n",
       "2011    1136\n",
       "2006    1008\n",
       "2005     936\n",
       "2002     829\n",
       "2003     775\n",
       "2004     744\n",
       "Name: Year, dtype: int64"
      ]
     },
     "execution_count": 28,
     "metadata": {},
     "output_type": "execute_result"
    }
   ],
   "source": [
    "df['Year'].value_counts()[0:10]"
   ]
  },
  {
   "cell_type": "markdown",
   "id": "53163cfd",
   "metadata": {},
   "source": [
    "#### 3- what is the most genere has games ?"
   ]
  },
  {
   "cell_type": "code",
   "execution_count": 60,
   "id": "6fb5b133",
   "metadata": {},
   "outputs": [
    {
     "data": {
      "text/plain": [
       "Action          3316\n",
       "Sports          2346\n",
       "Misc            1739\n",
       "Role-Playing    1488\n",
       "Shooter         1308\n",
       "Adventure       1286\n",
       "Racing          1249\n",
       "Platform         886\n",
       "Simulation       867\n",
       "Fighting         848\n",
       "Strategy         681\n",
       "Puzzle           582\n",
       "Name: Genre, dtype: int64"
      ]
     },
     "execution_count": 60,
     "metadata": {},
     "output_type": "execute_result"
    }
   ],
   "source": [
    "df['Genre'].value_counts()"
   ]
  },
  {
   "cell_type": "code",
   "execution_count": 61,
   "id": "82d9e86d",
   "metadata": {
    "scrolled": true
   },
   "outputs": [
    {
     "data": {
      "image/png": "[encoded data removed]",
      "text/plain": [
       "<Figure size 432x288 with 1 Axes>"
      ]
     },
     "metadata": {
      "needs_background": "light"
     },
     "output_type": "display_data"
    }
   ],
   "source": [
    "sns.countplot(x=\"Genre\", data=df)\n",
    "plt.xticks(rotation=60);"
   ]
  },
  {
   "cell_type": "markdown",
   "id": "7822be3e",
   "metadata": {},
   "source": [
    "#### 4- what the reletion between publisher and Genre ?"
   ]
  },
  {
   "cell_type": "code",
   "execution_count": 66,
   "id": "d1e9cc9b",
   "metadata": {},
   "outputs": [
    {
     "data": {
      "text/plain": [
       "Publisher                               Genre  \n",
       "Electronic Arts                         Sports     561\n",
       "Activision                              Action     310\n",
       "Konami Digital Entertainment            Sports     280\n",
       "Namco Bandai Games                      Action     248\n",
       "THQ                                     Action     194\n",
       "Ubisoft                                 Action     193\n",
       "Electronic Arts                         Action     183\n",
       "Warner Bros. Interactive Entertainment  Action     165\n",
       "Activision                              Shooter    159\n",
       "Electronic Arts                         Racing     159\n",
       "Name: Genre, dtype: int64"
      ]
     },
     "execution_count": 66,
     "metadata": {},
     "output_type": "execute_result"
    }
   ],
   "source": [
    "df.groupby(['Publisher'])['Genre'].value_counts().sort_values(ascending=False)[0:10]"
   ]
  },
  {
   "cell_type": "code",
   "execution_count": 65,
   "id": "3fbbfaf0",
   "metadata": {
    "scrolled": false
   },
   "outputs": [
    {
     "data": {
      "image/png": "[encoded data removed]",
      "text/plain": [
       "<Figure size 432x288 with 1 Axes>"
      ]
     },
     "metadata": {
      "needs_background": "light"
     },
     "output_type": "display_data"
    }
   ],
   "source": [
    "df.groupby(['Publisher'])['Genre'].value_counts().sort_values(ascending=False)[0:10].plot(kind='bar');"
   ]
  },
  {
   "cell_type": "markdown",
   "id": "f12c4918",
   "metadata": {},
   "source": [
    "#### 5- what number of games relesed by publisher every year ?"
   ]
  },
  {
   "cell_type": "code",
   "execution_count": 44,
   "id": "20ddcd55",
   "metadata": {},
   "outputs": [
    {
     "data": {
      "text/plain": [
       "2009    1431\n",
       "2008    1428\n",
       "2010    1257\n",
       "2007    1201\n",
       "2011    1136\n",
       "Name: Year, dtype: int64"
      ]
     },
     "execution_count": 44,
     "metadata": {},
     "output_type": "execute_result"
    }
   ],
   "source": [
    "df['Year'].value_counts()[:5]"
   ]
  },
  {
   "cell_type": "code",
   "execution_count": 16,
   "id": "31996e71",
   "metadata": {},
   "outputs": [
    {
     "data": {
      "text/plain": [
       "Publisher        Year\n",
       "Activision       2009    121\n",
       "Electronic Arts  2008    120\n",
       "                 2005    117\n",
       "                 2009    112\n",
       "Ubisoft          2008    112\n",
       "Electronic Arts  2007    107\n",
       "Ubisoft          2009    102\n",
       "Electronic Arts  2006    102\n",
       "Activision       2010     89\n",
       "                 2008     88\n",
       "Name: Year, dtype: int64"
      ]
     },
     "execution_count": 16,
     "metadata": {},
     "output_type": "execute_result"
    }
   ],
   "source": [
    "df.groupby(['Publisher'])['Platform'].value_counts().sort_values(ascending=False)[0:10]"
   ]
  },
  {
   "cell_type": "code",
   "execution_count": 72,
   "id": "196cdafa",
   "metadata": {},
   "outputs": [
    {
     "data": {
      "image/png": "[encoded data removed]",
      "text/plain": [
       "<Figure size 432x288 with 1 Axes>"
      ]
     },
     "metadata": {
      "needs_background": "light"
     },
     "output_type": "display_data"
    }
   ],
   "source": [
    "df.groupby(['Publisher'])['Year'].value_counts().sort_values(ascending=False)[0:10].plot(kind='bar');"
   ]
  },
  {
   "cell_type": "markdown",
   "id": "46184789",
   "metadata": {},
   "source": [
    "sales"
   ]
  },
  {
   "cell_type": "markdown",
   "id": "4c99637b",
   "metadata": {},
   "source": [
    "#### 6- wahat is the sales for every publisher ?\n"
   ]
  },
  {
   "cell_type": "code",
   "execution_count": 46,
   "id": "676670e6",
   "metadata": {},
   "outputs": [
    {
     "data": {
      "text/plain": [
       "Publisher\n",
       "Nintendo                        1784.43\n",
       "Electronic Arts                 1093.39\n",
       "Activision                       721.41\n",
       "Sony Computer Entertainment      607.28\n",
       "Ubisoft                          473.54\n",
       "Take-Two Interactive             399.30\n",
       "THQ                              340.44\n",
       "Konami Digital Entertainment     278.56\n",
       "Sega                             270.70\n",
       "Namco Bandai Games               253.65\n",
       "Name: Global_Sales, dtype: float64"
      ]
     },
     "execution_count": 46,
     "metadata": {},
     "output_type": "execute_result"
    }
   ],
   "source": [
    "df.groupby(['Publisher'])['Global_Sales'].sum().sort_values(ascending=False)[0:10]"
   ]
  },
  {
   "cell_type": "code",
   "execution_count": 13,
   "id": "5c1efe22",
   "metadata": {},
   "outputs": [
    {
     "data": {
      "image/png": "[encoded data removed]",
      "text/plain": [
       "<Figure size 432x288 with 1 Axes>"
      ]
     },
     "metadata": {
      "needs_background": "light"
     },
     "output_type": "display_data"
    }
   ],
   "source": [
    "df.groupby(['Publisher'])['Global_Sales'].sum().sort_values(ascending=False)[0:10].plot(kind='bar');"
   ]
  },
  {
   "cell_type": "markdown",
   "id": "e4165b9e",
   "metadata": {},
   "source": [
    "#### 7- wahat is the sales for every Platform ?\n"
   ]
  },
  {
   "cell_type": "code",
   "execution_count": 14,
   "id": "eab8afb0",
   "metadata": {},
   "outputs": [
    {
     "data": {
      "text/plain": [
       "Platform\n",
       "PS2     1233.46\n",
       "X360     969.60\n",
       "PS3      949.35\n",
       "Wii      909.81\n",
       "DS       818.91\n",
       "PS       727.39\n",
       "GBA      305.62\n",
       "PSP      291.71\n",
       "PS4      278.10\n",
       "PC       254.70\n",
       "Name: Global_Sales, dtype: float64"
      ]
     },
     "execution_count": 14,
     "metadata": {},
     "output_type": "execute_result"
    }
   ],
   "source": [
    "df.groupby(['Platform'])['Global_Sales'].sum().sort_values(ascending=False)[0:10]"
   ]
  },
  {
   "cell_type": "code",
   "execution_count": 15,
   "id": "f226fcf5",
   "metadata": {},
   "outputs": [
    {
     "data": {
      "image/png": "[encoded data removed]",
      "text/plain": [
       "<Figure size 432x288 with 1 Axes>"
      ]
     },
     "metadata": {
      "needs_background": "light"
     },
     "output_type": "display_data"
    }
   ],
   "source": [
    "sns.barplot(data = df, x = 'Platform', y = 'Global_Sales', ci = None , estimator=sum);"
   ]
  },
  {
   "cell_type": "markdown",
   "id": "e1bc8f53",
   "metadata": {},
   "source": [
    "#### 8- what is the most year that have bigger sales ?"
   ]
  },
  {
   "cell_type": "code",
   "execution_count": 16,
   "id": "0f34e9f1",
   "metadata": {},
   "outputs": [
    {
     "data": {
      "text/plain": [
       "Year\n",
       "2008    678.90\n",
       "2009    667.30\n",
       "2007    609.92\n",
       "2010    600.29\n",
       "2006    521.04\n",
       "2011    515.80\n",
       "2005    458.51\n",
       "2004    414.01\n",
       "2002    395.52\n",
       "2013    368.11\n",
       "Name: Global_Sales, dtype: float64"
      ]
     },
     "execution_count": 16,
     "metadata": {},
     "output_type": "execute_result"
    }
   ],
   "source": [
    "df.groupby(['Year'])['Global_Sales'].sum().sort_values(ascending=False)[0:10]"
   ]
  },
  {
   "cell_type": "code",
   "execution_count": 17,
   "id": "58b0e4c8",
   "metadata": {},
   "outputs": [
    {
     "data": {
      "image/png": "[encoded data removed]",
      "text/plain": [
       "<Figure size 432x288 with 1 Axes>"
      ]
     },
     "metadata": {
      "needs_background": "light"
     },
     "output_type": "display_data"
    }
   ],
   "source": [
    "sns.barplot(data = df, x = 'Year', y = 'Global_Sales', ci = None ,order=df.Year.value_counts().iloc[:10].index, estimator=sum);"
   ]
  },
  {
   "cell_type": "markdown",
   "id": "0edcbc02",
   "metadata": {},
   "source": [
    "#### 9- wahat is the sales for every reigon ?\n"
   ]
  },
  {
   "cell_type": "code",
   "execution_count": 18,
   "id": "4537c118",
   "metadata": {},
   "outputs": [
    {
     "data": {
      "text/plain": [
       "4327.650000000001"
      ]
     },
     "execution_count": 18,
     "metadata": {},
     "output_type": "execute_result"
    }
   ],
   "source": [
    "df['NA_Sales'].sum()"
   ]
  },
  {
   "cell_type": "code",
   "execution_count": 19,
   "id": "2a925fdc",
   "metadata": {},
   "outputs": [
    {
     "data": {
      "text/plain": [
       "2406.69"
      ]
     },
     "execution_count": 19,
     "metadata": {},
     "output_type": "execute_result"
    }
   ],
   "source": [
    "df['EU_Sales'].sum()"
   ]
  },
  {
   "cell_type": "code",
   "execution_count": 20,
   "id": "21a2116c",
   "metadata": {},
   "outputs": [
    {
     "data": {
      "text/plain": [
       "1284.2700000000002"
      ]
     },
     "execution_count": 20,
     "metadata": {},
     "output_type": "execute_result"
    }
   ],
   "source": [
    "df['JP_Sales'].sum()"
   ]
  },
  {
   "cell_type": "markdown",
   "id": "eb5f6109",
   "metadata": {},
   "source": [
    "#### 10- what the sales of every Genre in every reigon ?"
   ]
  },
  {
   "cell_type": "code",
   "execution_count": 21,
   "id": "f89c8452",
   "metadata": {},
   "outputs": [
    {
     "data": {
      "image/png": "[encoded data removed]",
      "text/plain": [
       "<Figure size 432x288 with 1 Axes>"
      ]
     },
     "metadata": {
      "needs_background": "light"
     },
     "output_type": "display_data"
    }
   ],
   "source": [
    "df.groupby(['Genre'])['NA_Sales'].sum().sort_values(ascending=False).plot(kind='bar');"
   ]
  },
  {
   "cell_type": "code",
   "execution_count": 22,
   "id": "c553bcf7",
   "metadata": {},
   "outputs": [
    {
     "data": {
      "image/png": "[encoded data removed]",
      "text/plain": [
       "<Figure size 432x288 with 1 Axes>"
      ]
     },
     "metadata": {
      "needs_background": "light"
     },
     "output_type": "display_data"
    }
   ],
   "source": [
    "df.groupby(['Genre'])['EU_Sales'].sum().sort_values(ascending=False).plot(kind='bar');"
   ]
  },
  {
   "cell_type": "code",
   "execution_count": 23,
   "id": "4cfa51de",
   "metadata": {},
   "outputs": [
    {
     "data": {
      "image/png": "[encoded data removed]",
      "text/plain": [
       "<Figure size 432x288 with 1 Axes>"
      ]
     },
     "metadata": {
      "needs_background": "light"
     },
     "output_type": "display_data"
    }
   ],
   "source": [
    "df.groupby(['Genre'])['JP_Sales'].sum().sort_values(ascending=False).plot(kind='bar');"
   ]
  },
  {
   "cell_type": "code",
   "execution_count": 24,
   "id": "d084059a",
   "metadata": {},
   "outputs": [
    {
     "data": {
      "text/plain": [
       "Genre\n",
       "Action          1722.84\n",
       "Sports          1309.24\n",
       "Shooter         1026.20\n",
       "Role-Playing     923.83\n",
       "Platform         829.13\n",
       "Misc             789.87\n",
       "Racing           726.76\n",
       "Fighting         444.05\n",
       "Simulation       389.98\n",
       "Puzzle           242.21\n",
       "Adventure        234.59\n",
       "Strategy         173.27\n",
       "Name: Global_Sales, dtype: float64"
      ]
     },
     "execution_count": 24,
     "metadata": {},
     "output_type": "execute_result"
    }
   ],
   "source": [
    "df.groupby(['Genre'])['Global_Sales'].sum().sort_values(ascending=False)"
   ]
  },
  {
   "cell_type": "code",
   "execution_count": 25,
   "id": "29fef88f",
   "metadata": {},
   "outputs": [
    {
     "data": {
      "image/png": "[encoded data removed]",
      "text/plain": [
       "<Figure size 432x288 with 1 Axes>"
      ]
     },
     "metadata": {
      "needs_background": "light"
     },
     "output_type": "display_data"
    }
   ],
   "source": [
    "df.groupby(['Genre'])['Global_Sales'].sum().sort_values(ascending=False).plot(kind='bar');"
   ]
  },
  {
   "cell_type": "markdown",
   "id": "78302246",
   "metadata": {},
   "source": [
    "#### 11- which region has most sales in every publisher ?\n"
   ]
  },
  {
   "cell_type": "code",
   "execution_count": 26,
   "id": "ee4fec83",
   "metadata": {},
   "outputs": [
    {
     "data": {
      "text/plain": [
       "Publisher\n",
       "Nintendo                       815.75\n",
       "Electronic Arts                584.22\n",
       "Activision                     426.01\n",
       "Sony Computer Entertainment    265.22\n",
       "Ubisoft                        252.81\n",
       "Take-Two Interactive           220.47\n",
       "THQ                            208.60\n",
       "Microsoft Game Studios         155.35\n",
       "Sega                           108.78\n",
       "Atari                          101.23\n",
       "Name: NA_Sales, dtype: float64"
      ]
     },
     "execution_count": 26,
     "metadata": {},
     "output_type": "execute_result"
    }
   ],
   "source": [
    "df.groupby(['Publisher'])['NA_Sales'].sum().sort_values(ascending=False)[0:10]"
   ]
  },
  {
   "cell_type": "code",
   "execution_count": 27,
   "id": "a398d098",
   "metadata": {},
   "outputs": [
    {
     "data": {
      "image/png": "[encoded data removed]",
      "text/plain": [
       "<Figure size 432x288 with 1 Axes>"
      ]
     },
     "metadata": {
      "needs_background": "light"
     },
     "output_type": "display_data"
    }
   ],
   "source": [
    "df.groupby(['Publisher'])['NA_Sales'].sum().sort_values(ascending=False)[0:10].plot(kind='bar');"
   ]
  },
  {
   "cell_type": "code",
   "execution_count": 28,
   "id": "916a4947",
   "metadata": {},
   "outputs": [
    {
     "data": {
      "text/plain": [
       "Publisher\n",
       "Nintendo                        418.30\n",
       "Electronic Arts                 367.38\n",
       "Activision                      213.72\n",
       "Sony Computer Entertainment     187.55\n",
       "Ubisoft                         163.03\n",
       "Take-Two Interactive            117.95\n",
       "THQ                              94.60\n",
       "Sega                             81.41\n",
       "Konami Digital Entertainment     68.62\n",
       "Microsoft Game Studios           68.61\n",
       "Name: EU_Sales, dtype: float64"
      ]
     },
     "execution_count": 28,
     "metadata": {},
     "output_type": "execute_result"
    }
   ],
   "source": [
    "df.groupby(['Publisher'])['EU_Sales'].sum().sort_values(ascending=False)[0:10]"
   ]
  },
  {
   "cell_type": "code",
   "execution_count": 29,
   "id": "95d5197e",
   "metadata": {},
   "outputs": [
    {
     "data": {
      "image/png": "[encoded data removed]",
      "text/plain": [
       "<Figure size 432x288 with 1 Axes>"
      ]
     },
     "metadata": {
      "needs_background": "light"
     },
     "output_type": "display_data"
    }
   ],
   "source": [
    "df.groupby(['Publisher'])['EU_Sales'].sum().sort_values(ascending=False)[0:10].plot(kind='bar');"
   ]
  },
  {
   "cell_type": "code",
   "execution_count": 30,
   "id": "2699d67f",
   "metadata": {},
   "outputs": [
    {
     "data": {
      "text/plain": [
       "Publisher\n",
       "Nintendo                        454.99\n",
       "Namco Bandai Games              126.84\n",
       "Konami Digital Entertainment     90.93\n",
       "Sony Computer Entertainment      74.10\n",
       "Capcom                           67.38\n",
       "Sega                             56.19\n",
       "Square Enix                      49.79\n",
       "SquareSoft                       40.13\n",
       "Enix Corporation                 32.40\n",
       "Tecmo Koei                       29.21\n",
       "Name: JP_Sales, dtype: float64"
      ]
     },
     "execution_count": 30,
     "metadata": {},
     "output_type": "execute_result"
    }
   ],
   "source": [
    "df.groupby(['Publisher'])['JP_Sales'].sum().sort_values(ascending=False)[0:10]"
   ]
  },
  {
   "cell_type": "code",
   "execution_count": 33,
   "id": "ab6504c0",
   "metadata": {},
   "outputs": [
    {
     "data": {
      "image/png": "[encoded data removed]",
      "text/plain": [
       "<Figure size 432x288 with 1 Axes>"
      ]
     },
     "metadata": {
      "needs_background": "light"
     },
     "output_type": "display_data"
    }
   ],
   "source": [
    "df.groupby(['Publisher'])['JP_Sales'].sum().sort_values(ascending=False)[0:10].plot(kind='bar');"
   ]
  },
  {
   "cell_type": "markdown",
   "id": "1d4df2f1",
   "metadata": {},
   "source": [
    "#### 12- what the most game got sales ?\n"
   ]
  },
  {
   "cell_type": "code",
   "execution_count": 34,
   "id": "7f5d279d",
   "metadata": {},
   "outputs": [
    {
     "data": {
      "text/plain": [
       "Name                      Genre         Platform\n",
       "Wii Sports                Sports        Wii         82.74\n",
       "Super Mario Bros.         Platform      NES         40.24\n",
       "Mario Kart Wii            Racing        Wii         35.82\n",
       "Wii Sports Resort         Sports        Wii         33.00\n",
       "Pokemon Red/Pokemon Blue  Role-Playing  GB          31.37\n",
       "Name: Global_Sales, dtype: float64"
      ]
     },
     "execution_count": 34,
     "metadata": {},
     "output_type": "execute_result"
    }
   ],
   "source": [
    "df.groupby(['Name','Genre','Platform'])['Global_Sales'].max().sort_values(ascending=False)[0:5]"
   ]
  },
  {
   "cell_type": "code",
   "execution_count": 35,
   "id": "5cbf3678",
   "metadata": {},
   "outputs": [
    {
     "data": {
      "image/png": "[encoded data removed]",
      "text/plain": [
       "<Figure size 432x288 with 1 Axes>"
      ]
     },
     "metadata": {
      "needs_background": "light"
     },
     "output_type": "display_data"
    }
   ],
   "source": [
    "df.groupby(['Name','Genre','Platform'])['Global_Sales'].max().sort_values(ascending=False)[0:5].plot(kind='bar');"
   ]
  },
  {
   "cell_type": "markdown",
   "id": "102b242a",
   "metadata": {},
   "source": [
    "#### top 10 games sales "
   ]
  },
  {
   "cell_type": "code",
   "execution_count": 38,
   "id": "f4f51fc3",
   "metadata": {},
   "outputs": [
    {
     "data": {
      "text/plain": [
       "Name                            Genre       \n",
       "Wii Sports                      Sports          82.74\n",
       "Grand Theft Auto V              Action          55.92\n",
       "Super Mario Bros.               Platform        45.31\n",
       "Tetris                          Puzzle          35.84\n",
       "Mario Kart Wii                  Racing          35.82\n",
       "Wii Sports Resort               Sports          33.00\n",
       "Pokemon Red/Pokemon Blue        Role-Playing    31.37\n",
       "Call of Duty: Modern Warfare 3  Shooter         30.83\n",
       "New Super Mario Bros.           Platform        30.01\n",
       "Call of Duty: Black Ops II      Shooter         29.72\n",
       "Name: Global_Sales, dtype: float64"
      ]
     },
     "execution_count": 38,
     "metadata": {},
     "output_type": "execute_result"
    }
   ],
   "source": [
    "df.groupby(['Name','Genre'])['Global_Sales'].sum().sort_values(ascending = False).head(10)"
   ]
  },
  {
   "cell_type": "markdown",
   "id": "d5ce43b2",
   "metadata": {},
   "source": [
    "### We can summarize all of the above in the following:\n",
    "###### Naturally, people tend to buy sports and shooter games \n",
    "###### For sales, it is better to focus on console games ps3 Xbox360 and The new generation\n",
    "###### Going to games field is a good idea because of the increase in profits in the field of games every year\n",
    "###### its better to focus sales in the US region\n",
    "###### Genre Action Sports and Shooter has the most sales\n"
   ]
  }
 ],
 "metadata": {
  "kernelspec": {
   "display_name": "Python 3 (ipykernel)",
   "language": "python",
   "name": "python3"
  },
  "language_info": {
   "codemirror_mode": {
    "name": "ipython",
    "version": 3
   },
   "file_extension": ".py",
   "mimetype": "text/x-python",
   "name": "python",
   "nbconvert_exporter": "python",
   "pygments_lexer": "ipython3",
   "version": "3.9.7"
  }
 },
 "nbformat": 4,
 "nbformat_minor": 5
}
